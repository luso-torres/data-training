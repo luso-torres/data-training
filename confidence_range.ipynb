{
 "cells": [
  {
   "cell_type": "markdown",
   "id": "a812eeab-1bf8-47ad-9df1-700234739296",
   "metadata": {},
   "source": [
    "# Finding interval Estimators\n",
    "\n",
    "Let X be a continuous Gaussian random variable with CDF F_X (x) = P(X\\leq x).\n",
    "Suppose that we are interested in finding two values x_h and x_l such that\n",
    "P(x_l \\leq X x_h) \\leq 1-\\alpha"
   ]
  },
  {
   "cell_type": "code",
   "execution_count": null,
   "id": "fadf9c23-b672-43f1-b71c-70c07ff48c72",
   "metadata": {},
   "outputs": [],
   "source": [
    "x_l = F^-1_X"
   ]
  }
 ],
 "metadata": {
  "kernelspec": {
   "display_name": "Python 3 (ipykernel)",
   "language": "python",
   "name": "python3"
  },
  "language_info": {
   "codemirror_mode": {
    "name": "ipython",
    "version": 3
   },
   "file_extension": ".py",
   "mimetype": "text/x-python",
   "name": "python",
   "nbconvert_exporter": "python",
   "pygments_lexer": "ipython3",
   "version": "3.11.9"
  }
 },
 "nbformat": 4,
 "nbformat_minor": 5
}
